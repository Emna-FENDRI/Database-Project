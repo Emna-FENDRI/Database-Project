{
 "metadata": {
  "language_info": {
   "codemirror_mode": {
    "name": "ipython",
    "version": 3
   },
   "file_extension": ".py",
   "mimetype": "text/x-python",
   "name": "python",
   "nbconvert_exporter": "python",
   "pygments_lexer": "ipython3",
   "version": "3.7.10"
  },
  "orig_nbformat": 2,
  "kernelspec": {
   "name": "python3710jvsc74a57bd0380e1ccc149be5d550b743c6dc14818ea11b0ed98b8c193b031810b46e2db3e6",
   "display_name": "Python 3.7.10 64-bit ('myenv': conda)"
  }
 },
 "nbformat": 4,
 "nbformat_minor": 2,
 "cells": [
  {
   "cell_type": "code",
   "execution_count": 1,
   "metadata": {},
   "outputs": [],
   "source": [
    "import pandas as pd\n",
    "import numpy as np"
   ]
  },
  {
   "cell_type": "code",
   "execution_count": 2,
   "metadata": {},
   "outputs": [
    {
     "output_type": "stream",
     "name": "stderr",
     "text": [
      "C:\\Users\\steph\\miniconda3\\envs\\myenv\\lib\\site-packages\\IPython\\core\\interactiveshell.py:3166: DtypeWarning: Columns (5) have mixed types.Specify dtype option on import or set low_memory=False.\n",
      "  interactivity=interactivity, compiler=compiler, result=result)\n",
      "C:\\Users\\steph\\miniconda3\\envs\\myenv\\lib\\site-packages\\IPython\\core\\interactiveshell.py:3166: DtypeWarning: Columns (13) have mixed types.Specify dtype option on import or set low_memory=False.\n",
      "  interactivity=interactivity, compiler=compiler, result=result)\n"
     ]
    }
   ],
   "source": [
    "dtype = {'case_id' : str}\n",
    "collisions = pd.read_csv('data/old/collisions.csv', dtype=dtype)\n",
    "parties = pd.read_csv('data/old/parties.csv', dtype=dtype)\n",
    "victims = pd.read_csv('data/old/victims.csv', dtype=dtype)\n",
    "road_states = pd.read_csv('data/old/road_state.csv', dtype=dtype)"
   ]
  },
  {
   "source": [
    "# Checking columns"
   ],
   "cell_type": "markdown",
   "metadata": {}
  },
  {
   "cell_type": "code",
   "execution_count": 3,
   "metadata": {},
   "outputs": [
    {
     "output_type": "execute_result",
     "data": {
      "text/plain": [
       "Index(['id', 'case_id', 'party_number', 'at_fault', 'party_sex', 'party_type',\n",
       "       'party_age', 'party_sobriety', 'party_drug_physical',\n",
       "       'movement_preceding_collision', 'hazardous_materials', 'cellphone_use',\n",
       "       'financial_responsibility', 'school_bus_related', 'vehicle_id', 'afid',\n",
       "       'seid'],\n",
       "      dtype='object')"
      ]
     },
     "metadata": {},
     "execution_count": 3
    }
   ],
   "source": [
    "parties.columns"
   ]
  },
  {
   "cell_type": "code",
   "execution_count": 4,
   "metadata": {},
   "outputs": [
    {
     "output_type": "execute_result",
     "data": {
      "text/plain": [
       "Index(['case_id', 'collision_date', 'collision_time', 'collision_severity',\n",
       "       'type_of_collision', 'officer_id', 'process_date', 'ramp_intersection',\n",
       "       'tow_away', 'hit_and_run', 'location_id', 'pcf_id', 'road_state_id',\n",
       "       'weather_id_1', 'weather_id_2'],\n",
       "      dtype='object')"
      ]
     },
     "metadata": {},
     "execution_count": 4
    }
   ],
   "source": [
    "collisions.columns"
   ]
  },
  {
   "cell_type": "code",
   "execution_count": 5,
   "metadata": {},
   "outputs": [
    {
     "output_type": "execute_result",
     "data": {
      "text/plain": [
       "Index(['id', 'case_id', 'party_number', 'victim_age', 'victim_sex',\n",
       "       'victim_role', 'victim_degree_of_injury', 'victim_ejected',\n",
       "       'victim_seating_position', 'seid'],\n",
       "      dtype='object')"
      ]
     },
     "metadata": {},
     "execution_count": 5
    }
   ],
   "source": [
    "victims.columns"
   ]
  },
  {
   "cell_type": "code",
   "execution_count": 6,
   "metadata": {},
   "outputs": [
    {
     "output_type": "execute_result",
     "data": {
      "text/plain": [
       "Index(['road_state_id', 'road_condition_1', 'road_condition_2', 'road_surface',\n",
       "       'lighting'],\n",
       "      dtype='object')"
      ]
     },
     "metadata": {},
     "execution_count": 6
    }
   ],
   "source": [
    "road_states.columns"
   ]
  },
  {
   "source": [
    "# Removing road_states outliers"
   ],
   "cell_type": "markdown",
   "metadata": {}
  },
  {
   "cell_type": "code",
   "execution_count": 7,
   "metadata": {},
   "outputs": [
    {
     "output_type": "stream",
     "name": "stdout",
     "text": [
      "['dry' 'wet' 'snowy' nan 'slippery' 'H']\n"
     ]
    }
   ],
   "source": [
    "print(road_states.road_surface.unique())\n",
    "def remove_H(x):\n",
    "    if (x == 'H'):\n",
    "        return None\n",
    "    else: \n",
    "        return x\n",
    "\n",
    "road_states['road_surface'] = road_states['road_surface'].map(remove_H, na_action='ignore')"
   ]
  },
  {
   "cell_type": "code",
   "execution_count": 8,
   "metadata": {},
   "outputs": [
    {
     "output_type": "stream",
     "name": "stdout",
     "text": [
      "['dry' 'wet' 'snowy' nan 'slippery' None]\n"
     ]
    },
    {
     "output_type": "execute_result",
     "data": {
      "text/plain": [
       "     road_state_id road_condition_1 road_condition_2 road_surface  \\\n",
       "0                0           normal              NaN          dry   \n",
       "1                1           normal              NaN          dry   \n",
       "2                2           normal              NaN          dry   \n",
       "3                3           normal              NaN          dry   \n",
       "4                4           normal              NaN          dry   \n",
       "..             ...              ...              ...          ...   \n",
       "685            685              NaN   loose material          wet   \n",
       "686            686            other            holes          dry   \n",
       "687            687              NaN           normal          wet   \n",
       "688            688      obstruction     construction     slippery   \n",
       "689            689    reduced width     construction          dry   \n",
       "\n",
       "                       lighting  \n",
       "0                      daylight  \n",
       "1                           NaN  \n",
       "2                  dusk or dawn  \n",
       "3       dark with street lights  \n",
       "4    dark with no street lights  \n",
       "..                          ...  \n",
       "685  dark with no street lights  \n",
       "686                    daylight  \n",
       "687  dark with no street lights  \n",
       "688                    daylight  \n",
       "689                    daylight  \n",
       "\n",
       "[690 rows x 5 columns]"
      ],
      "text/html": "<div>\n<style scoped>\n    .dataframe tbody tr th:only-of-type {\n        vertical-align: middle;\n    }\n\n    .dataframe tbody tr th {\n        vertical-align: top;\n    }\n\n    .dataframe thead th {\n        text-align: right;\n    }\n</style>\n<table border=\"1\" class=\"dataframe\">\n  <thead>\n    <tr style=\"text-align: right;\">\n      <th></th>\n      <th>road_state_id</th>\n      <th>road_condition_1</th>\n      <th>road_condition_2</th>\n      <th>road_surface</th>\n      <th>lighting</th>\n    </tr>\n  </thead>\n  <tbody>\n    <tr>\n      <th>0</th>\n      <td>0</td>\n      <td>normal</td>\n      <td>NaN</td>\n      <td>dry</td>\n      <td>daylight</td>\n    </tr>\n    <tr>\n      <th>1</th>\n      <td>1</td>\n      <td>normal</td>\n      <td>NaN</td>\n      <td>dry</td>\n      <td>NaN</td>\n    </tr>\n    <tr>\n      <th>2</th>\n      <td>2</td>\n      <td>normal</td>\n      <td>NaN</td>\n      <td>dry</td>\n      <td>dusk or dawn</td>\n    </tr>\n    <tr>\n      <th>3</th>\n      <td>3</td>\n      <td>normal</td>\n      <td>NaN</td>\n      <td>dry</td>\n      <td>dark with street lights</td>\n    </tr>\n    <tr>\n      <th>4</th>\n      <td>4</td>\n      <td>normal</td>\n      <td>NaN</td>\n      <td>dry</td>\n      <td>dark with no street lights</td>\n    </tr>\n    <tr>\n      <th>...</th>\n      <td>...</td>\n      <td>...</td>\n      <td>...</td>\n      <td>...</td>\n      <td>...</td>\n    </tr>\n    <tr>\n      <th>685</th>\n      <td>685</td>\n      <td>NaN</td>\n      <td>loose material</td>\n      <td>wet</td>\n      <td>dark with no street lights</td>\n    </tr>\n    <tr>\n      <th>686</th>\n      <td>686</td>\n      <td>other</td>\n      <td>holes</td>\n      <td>dry</td>\n      <td>daylight</td>\n    </tr>\n    <tr>\n      <th>687</th>\n      <td>687</td>\n      <td>NaN</td>\n      <td>normal</td>\n      <td>wet</td>\n      <td>dark with no street lights</td>\n    </tr>\n    <tr>\n      <th>688</th>\n      <td>688</td>\n      <td>obstruction</td>\n      <td>construction</td>\n      <td>slippery</td>\n      <td>daylight</td>\n    </tr>\n    <tr>\n      <th>689</th>\n      <td>689</td>\n      <td>reduced width</td>\n      <td>construction</td>\n      <td>dry</td>\n      <td>daylight</td>\n    </tr>\n  </tbody>\n</table>\n<p>690 rows × 5 columns</p>\n</div>"
     },
     "metadata": {},
     "execution_count": 8
    }
   ],
   "source": [
    "print(road_states.road_surface.unique())\n",
    "road_states"
   ]
  },
  {
   "cell_type": "code",
   "execution_count": 9,
   "metadata": {},
   "outputs": [],
   "source": [
    "road_states.to_csv(\"data/new/road_states.csv\")"
   ]
  },
  {
   "cell_type": "code",
   "execution_count": 10,
   "metadata": {},
   "outputs": [
    {
     "output_type": "execute_result",
     "data": {
      "text/plain": [
       "array(['dry', 'wet', 'snowy', nan, 'slippery'], dtype=object)"
      ]
     },
     "metadata": {},
     "execution_count": 10
    }
   ],
   "source": [
    "road_states_new = pd.read_csv('data/new/road_states.csv', dtype=dtype)\n",
    "road_states_new.road_surface.unique()"
   ]
  },
  {
   "source": [
    "# Remove Collisions outliers"
   ],
   "cell_type": "markdown",
   "metadata": {}
  },
  {
   "cell_type": "code",
   "execution_count": 11,
   "metadata": {},
   "outputs": [
    {
     "output_type": "stream",
     "name": "stdout",
     "text": [
      "['not hit and run' 'misdemeanor' 'felony' 'D']\n"
     ]
    }
   ],
   "source": [
    "def hit_and_run_D_outlier(x):\n",
    "    if (x == 'D'):\n",
    "        return None\n",
    "    else:\n",
    "        return x\n",
    "\n",
    "print(collisions.hit_and_run.unique())\n",
    "\n",
    "collisions['hit_and_run'] = collisions['hit_and_run'].map(hit_and_run_D_outlier, na_action='ignore')"
   ]
  },
  {
   "cell_type": "code",
   "execution_count": 12,
   "metadata": {},
   "outputs": [
    {
     "output_type": "stream",
     "name": "stdout",
     "text": [
      "['not hit and run' 'misdemeanor' 'felony' None]\n"
     ]
    }
   ],
   "source": [
    "print(collisions.hit_and_run.unique())\n"
   ]
  },
  {
   "cell_type": "code",
   "execution_count": 13,
   "metadata": {},
   "outputs": [],
   "source": [
    "collisions.to_csv(\"data/new/collisions.csv\")"
   ]
  },
  {
   "cell_type": "code",
   "execution_count": 14,
   "metadata": {},
   "outputs": [
    {
     "output_type": "stream",
     "name": "stderr",
     "text": [
      "C:\\Users\\steph\\miniconda3\\envs\\myenv\\lib\\site-packages\\IPython\\core\\interactiveshell.py:3166: DtypeWarning: Columns (6) have mixed types.Specify dtype option on import or set low_memory=False.\n  interactivity=interactivity, compiler=compiler, result=result)\n"
     ]
    },
    {
     "output_type": "execute_result",
     "data": {
      "text/plain": [
       "array(['not hit and run', 'misdemeanor', 'felony', nan], dtype=object)"
      ]
     },
     "metadata": {},
     "execution_count": 14
    }
   ],
   "source": [
    "collisions_new = pd.read_csv('data/new/collisions.csv', dtype=dtype)\n",
    "collisions_new.hit_and_run.unique()"
   ]
  },
  {
   "source": [
    "# Remove Parties outliers and map party_sex"
   ],
   "cell_type": "markdown",
   "metadata": {}
  },
  {
   "cell_type": "code",
   "execution_count": 15,
   "metadata": {},
   "outputs": [
    {
     "output_type": "stream",
     "name": "stdout",
     "text": [
      "[nan 'H' 'G' 'E' 'I' 'F']\n['C' 'D' nan 'B' '3' '2' '1']\n['female' nan 'male']\nIndex(['id', 'case_id', 'party_number', 'at_fault', 'party_sex', 'party_type',\n       'party_age', 'party_sobriety', 'party_drug_physical',\n       'movement_preceding_collision', 'hazardous_materials', 'cellphone_use',\n       'financial_responsibility', 'school_bus_related', 'vehicle_id', 'afid',\n       'seid'],\n      dtype='object')\n"
     ]
    }
   ],
   "source": [
    "def cellphone_use_map_integers(x):\n",
    "    if (x == '1'):\n",
    "        return 'B'\n",
    "    if (x == '2'):\n",
    "        return 'C'\n",
    "    if (x == '3'):\n",
    "        return 'D'\n",
    "    else:\n",
    "        return x\n",
    "\n",
    "def map_sex(x):\n",
    "    if (x == 'male'):\n",
    "        return 'M'\n",
    "    elif (x == 'female'):\n",
    "        return 'F'\n",
    "    else:\n",
    "        return x\n",
    "\n",
    "def party_drug_physical_remove_G(x):\n",
    "    if (x == 'G'):\n",
    "        return None\n",
    "    else:\n",
    "        return x\n",
    "\n",
    "print(parties.party_drug_physical.unique())\n",
    "print(parties.cellphone_use.unique())\n",
    "print(parties.party_sex.unique())\n",
    "print(parties.columns)"
   ]
  },
  {
   "cell_type": "code",
   "execution_count": 16,
   "metadata": {},
   "outputs": [
    {
     "output_type": "stream",
     "name": "stdout",
     "text": [
      "[nan 'H' None 'E' 'I' 'F']\n",
      "['C' 'D' nan 'B']\n",
      "['F' nan 'M']\n"
     ]
    }
   ],
   "source": [
    "parties['party_drug_physical'] = parties['party_drug_physical'].map(party_drug_physical_remove_G, na_action='ignore')\r\n",
    "parties['cellphone_use'] = parties['cellphone_use'].map(cellphone_use_map_integers, na_action='ignore')\r\n",
    "parties['party_sex'] = parties['party_sex'].map(\r\n",
    "    map_sex, na_action='ignore'\r\n",
    ")\r\n",
    "\r\n",
    "print(parties.party_drug_physical.unique())\r\n",
    "print(parties.cellphone_use.unique())\r\n",
    "print(parties.party_sex.unique())"
   ]
  },
  {
   "cell_type": "code",
   "execution_count": 17,
   "metadata": {},
   "outputs": [],
   "source": [
    "#parties.to_csv(\"data/new/parties.csv\")"
   ]
  },
  {
   "source": [
    "# Remove Victims outliers and map victim_sex"
   ],
   "cell_type": "markdown",
   "metadata": {}
  },
  {
   "cell_type": "code",
   "execution_count": 18,
   "metadata": {},
   "outputs": [
    {
     "output_type": "stream",
     "name": "stdout",
     "text": [
      "['no injury' 'severe injury' 'complaint of pain' 'other visible injury'\n",
      " 'killed' '7']\n",
      "[ 0.  1.  3. nan  2.  4.]\n",
      "['male' 'female' nan]\n"
     ]
    }
   ],
   "source": [
    "def victim_degree_of_injury_replace_7(x):\n",
    "    if (x == '7'):\n",
    "        return 'possible injury'\n",
    "    else:\n",
    "        return x\n",
    "\n",
    "def victim_ejected_remove_4(x):\n",
    "    if (x == 4):\n",
    "        return None\n",
    "    else:\n",
    "        return x \n",
    "\n",
    "print(victims.victim_degree_of_injury.unique())\n",
    "print(victims.victim_ejected.unique())\n",
    "print(victims.victim_sex.unique())"
   ]
  },
  {
   "cell_type": "code",
   "execution_count": 19,
   "metadata": {},
   "outputs": [
    {
     "output_type": "stream",
     "name": "stdout",
     "text": [
      "['no injury' 'severe injury' 'complaint of pain' 'other visible injury'\n",
      " 'killed' 'possible injury']\n",
      "[ 0.  1.  3. nan  2.]\n",
      "['M' 'F' nan]\n"
     ]
    }
   ],
   "source": [
    "victims['victim_degree_of_injury'] = victims['victim_degree_of_injury'].map(victim_degree_of_injury_replace_7, na_action='ignore')\n",
    "victims['victim_ejected'] = victims['victim_ejected'].map(victim_ejected_remove_4, na_action='ignore')\n",
    "victims['victim_sex'] = victims['victim_sex'].map(map_sex, na_action='ignore')\n",
    "\n",
    "print(victims.victim_degree_of_injury.unique())\n",
    "print(victims.victim_ejected.unique())\n",
    "print(victims.victim_sex.unique())"
   ]
  },
  {
   "cell_type": "code",
   "execution_count": 20,
   "metadata": {},
   "outputs": [],
   "source": [
    "victims.to_csv(\"data/new/victims.csv\")"
   ]
  },
  {
   "cell_type": "code",
   "execution_count": 21,
   "metadata": {},
   "outputs": [
    {
     "output_type": "stream",
     "name": "stdout",
     "text": [
      "['no injury' 'severe injury' 'complaint of pain' 'other visible injury'\n 'killed' 'possible injury']\n[ 0.  1.  3. nan  2.]\n['M' 'F' nan]\n"
     ]
    }
   ],
   "source": [
    "victims_new = pd.read_csv('data/new/victims.csv', dtype=dtype)\n",
    "print(victims.victim_degree_of_injury.unique())\n",
    "print(victims.victim_ejected.unique())\n",
    "print(victims.victim_sex.unique())"
   ]
  },
  {
   "source": [
    "# Convert boolean values to numbers"
   ],
   "cell_type": "markdown",
   "metadata": {}
  },
  {
   "cell_type": "code",
   "execution_count": 22,
   "metadata": {},
   "outputs": [
    {
     "output_type": "execute_result",
     "data": {
      "text/plain": [
       "array([nan, 'A'], dtype=object)"
      ]
     },
     "metadata": {},
     "execution_count": 22
    }
   ],
   "source": [
    "def convert_hazardous_to_number(x):\n",
    "    if (x == 'A'):\n",
    "        return 1\n",
    "    else:\n",
    "        return 0\n",
    "\n",
    "parties.hazardous_materials.unique()"
   ]
  },
  {
   "cell_type": "code",
   "execution_count": 23,
   "metadata": {},
   "outputs": [
    {
     "output_type": "execute_result",
     "data": {
      "text/plain": [
       "array([0, 1], dtype=int64)"
      ]
     },
     "metadata": {},
     "execution_count": 23
    }
   ],
   "source": [
    "parties['hazardous_materials'] = parties['hazardous_materials'].map(convert_hazardous_to_number)\n",
    "\n",
    "parties.hazardous_materials.unique()"
   ]
  },
  {
   "cell_type": "code",
   "execution_count": 24,
   "metadata": {},
   "outputs": [
    {
     "output_type": "execute_result",
     "data": {
      "text/plain": [
       "array([nan, 'E'], dtype=object)"
      ]
     },
     "metadata": {},
     "execution_count": 24
    }
   ],
   "source": [
    "def convert_school_bus_related_to_number(x):\n",
    "    if (x == 'E'):\n",
    "        return 1\n",
    "    else:\n",
    "        return 0\n",
    "\n",
    "parties.school_bus_related.unique()"
   ]
  },
  {
   "cell_type": "code",
   "execution_count": 25,
   "metadata": {},
   "outputs": [
    {
     "output_type": "execute_result",
     "data": {
      "text/plain": [
       "array([0, 1], dtype=int64)"
      ]
     },
     "metadata": {},
     "execution_count": 25
    }
   ],
   "source": [
    "parties['school_bus_related'] = parties['school_bus_related'].map(convert_school_bus_related_to_number)\n",
    "\n",
    "parties.school_bus_related.unique()"
   ]
  },
  {
   "cell_type": "code",
   "execution_count": 26,
   "metadata": {},
   "outputs": [],
   "source": [
    "parties.to_csv(\"data/new/parties.csv\")"
   ]
  },
  {
   "cell_type": "code",
   "execution_count": 27,
   "metadata": {},
   "outputs": [
    {
     "output_type": "stream",
     "name": "stdout",
     "text": [
      "[nan 'H' 'E' 'I' 'F']\n",
      "['C' 'D' nan 'B']\n",
      "['F' nan 'M']\n",
      "[0 1]\n",
      "[1 0]\n",
      "[0 1]\n"
     ]
    }
   ],
   "source": [
    "parties_new = pd.read_csv('data/new/parties.csv', dtype=dtype)\n",
    "print(parties_new.party_drug_physical.unique())\n",
    "print(parties_new.cellphone_use.unique())\n",
    "print(parties_new.party_sex.unique())\n",
    "print(parties.school_bus_related.unique())\n",
    "print(parties.at_fault.unique())\n",
    "print(parties.hazardous_materials.unique())"
   ]
  },
  {
   "source": [
    "# Checking unique values"
   ],
   "cell_type": "markdown",
   "metadata": {}
  },
  {
   "cell_type": "code",
   "execution_count": 32,
   "metadata": {},
   "outputs": [
    {
     "output_type": "stream",
     "name": "stdout",
     "text": [
      "Index(['pcf_id', 'pcf_violation', 'pcf_violation_category',\n       'pcf_violation_subsection', 'primary_collision_factor'],\n      dtype='object')\n"
     ]
    }
   ],
   "source": [
    "pcfs = pd.read_csv('data/new/pcf.csv', dtype=dtype)\n",
    "print(pcfs.columns)\n",
    "#pcfs.violation_category.unique()"
   ]
  },
  {
   "cell_type": "code",
   "execution_count": 33,
   "metadata": {},
   "outputs": [
    {
     "output_type": "execute_result",
     "data": {
      "text/plain": [
       "array(['improper turning', 'hazardous parking',\n",
       "       'other hazardous violation', 'traffic signals and signs',\n",
       "       'speeding', 'unsafe starting or backing', 'unsafe lane change',\n",
       "       'automobile right of way', 'wrong side of road', 'dui',\n",
       "       'other than driver (or pedestrian)', 'fell asleep',\n",
       "       'improper passing', 'pedestrian right of way', 'unknown',\n",
       "       'following too closely', nan, 'other improper driving',\n",
       "       'pedestrian violation', 'other equipment', 'impeding traffic',\n",
       "       'brakes', 'lights', 'pedestrian dui', '21804'], dtype=object)"
      ]
     },
     "metadata": {},
     "execution_count": 33
    }
   ],
   "source": [
    "pcfs.pcf_violation_category.unique()"
   ]
  },
  {
   "cell_type": "code",
   "execution_count": 28,
   "metadata": {},
   "outputs": [],
   "source": [
    "# TODO: drop duplicated in parties?"
   ]
  }
 ]
}